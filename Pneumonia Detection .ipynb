{
 "cells": [
  {
   "cell_type": "code",
   "execution_count": 1,
   "metadata": {},
   "outputs": [],
   "source": [
    "##1.)\n",
    "import os\n",
    "import cv2\n",
    "from sklearn.utils import shuffle\n",
    "import numpy as np\n",
    "import pandas as pd\n",
    "import matplotlib.pyplot as plt"
   ]
  },
  {
   "cell_type": "code",
   "execution_count": 1,
   "metadata": {},
   "outputs": [
    {
     "name": "stdout",
     "output_type": "stream",
     "text": [
      "Initialised with 1341 image(s) found.\n",
      "Output directory set to C:/Users/RITA THOMAS/Desktop/image/chest_xray/train/NORMAL\\output."
     ]
    },
    {
     "name": "stderr",
     "output_type": "stream",
     "text": [
      "Processing <PIL.Image.Image image mode=L size=224x224 at 0x15CEDB5A908>: 100%|█| 4000/4000 [00:34<00:00, 116.46 Samples/s]                  \n"
     ]
    }
   ],
   "source": [
    "###AUGMENTATION\n",
    "\n",
    "import Augmentor\n",
    "p = Augmentor.Pipeline(\"C:/Users/Datapirates/Desktop/image/chest_xray/train/NORMAL\")\n",
    "p.rotate(probability=0.7, max_left_rotation=10, max_right_rotation=10)\n",
    "p.zoom(probability=0.5, min_factor=1.1, max_factor=1.5)\n",
    "p.sample(4000)"
   ]
  },
  {
   "cell_type": "code",
   "execution_count": null,
   "metadata": {},
   "outputs": [],
   "source": []
  },
  {
   "cell_type": "code",
   "execution_count": 2,
   "metadata": {
    "scrolled": true
   },
   "outputs": [],
   "source": [
    "##2.)\n",
    "####stage 1\n",
    "####defining preprocessing:denoising,segmenting,normalising\n",
    "def lo(image):\n",
    "    \n",
    "    image = cv2.GaussianBlur(image, (5, 5), 0)\n",
    "\n",
    "    \n",
    "    image = cv2.adaptiveThreshold(image,255,cv2.ADAPTIVE_THRESH_GAUSSIAN_C,cv2.THRESH_BINARY,11,2)\n",
    "    image = cv2.erode(image, None, iterations=2)\n",
    "    image = cv2.dilate(image, None, iterations=2)\n",
    "    \n",
    "    image = image/255\n",
    "    return image\n",
    "\n",
    "   "
   ]
  },
  {
   "cell_type": "code",
   "execution_count": 3,
   "metadata": {},
   "outputs": [],
   "source": [
    "##3.)\n",
    "###final\n",
    "###importing and labelling files from train folder \n",
    "tx = []\n",
    "ty = []\n",
    "tz = []\n",
    "\n",
    "dir_list=\"C:/Users/Datapirates/Desktop/image/chest_xray/train/\" \n",
    "for directory in os.listdir(dir_list):\n",
    "    for filename in os.listdir(dir_list + '/' + directory):\n",
    "        tz.append(filename) \n",
    "        \n",
    "        image = cv2.imread(dir_list + '/' + directory + '/' + filename,0)\n",
    "        \n",
    "        image = lo(image)\n",
    "        image = cv2.resize(image,dsize=(32,32))\n",
    "        tx.append(image)\n",
    "        \n",
    "        ###labelling\n",
    "        if directory == 'PNEUMONIA':\n",
    "            ty.append(1)\n",
    "        else:\n",
    "            ty.append(0)  \n",
    "        \n",
    "xtrain=np.array(tx) \n",
    "ytrain=np.array(ty)\n",
    "\n",
    "xtrain,ytrain=shuffle(xtrain,ytrain)\n",
    "        "
   ]
  },
  {
   "cell_type": "code",
   "execution_count": 7,
   "metadata": {},
   "outputs": [],
   "source": [
    "a=cv2.imread(\"C:/Users/Datapirates/Desktop/image/chest_xray/train/PNEUMONIA/person1_bacteria_2.jpeg\",0)"
   ]
  },
  {
   "cell_type": "code",
   "execution_count": 9,
   "metadata": {},
   "outputs": [],
   "source": [
    "imag = cv2.threshold(a,127,255,cv2.THRESH_TOZERO)"
   ]
  },
  {
   "cell_type": "code",
   "execution_count": 12,
   "metadata": {},
   "outputs": [
    {
     "data": {
      "text/plain": [
       "(127.0, array([[0, 0, 0, ..., 0, 0, 0],\n",
       "        [0, 0, 0, ..., 0, 0, 0],\n",
       "        [0, 0, 0, ..., 0, 0, 0],\n",
       "        ...,\n",
       "        [0, 0, 0, ..., 0, 0, 0],\n",
       "        [0, 0, 0, ..., 0, 0, 0],\n",
       "        [0, 0, 0, ..., 0, 0, 0]], dtype=uint8))"
      ]
     },
     "execution_count": 12,
     "metadata": {},
     "output_type": "execute_result"
    }
   ],
   "source": [
    "imag"
   ]
  },
  {
   "cell_type": "code",
   "execution_count": 4,
   "metadata": {},
   "outputs": [
    {
     "data": {
      "text/plain": [
       "7875"
      ]
     },
     "execution_count": 4,
     "metadata": {},
     "output_type": "execute_result"
    }
   ],
   "source": [
    "len(tx)"
   ]
  },
  {
   "cell_type": "code",
   "execution_count": 5,
   "metadata": {},
   "outputs": [
    {
     "data": {
      "text/plain": [
       "(7875,)"
      ]
     },
     "execution_count": 5,
     "metadata": {},
     "output_type": "execute_result"
    }
   ],
   "source": [
    "ytrain.shape"
   ]
  },
  {
   "cell_type": "code",
   "execution_count": 6,
   "metadata": {},
   "outputs": [],
   "source": [
    "##4.)\n",
    "##test data importing and labelling\n",
    "x1 = []\n",
    "y1 = []\n",
    "\n",
    "dir_list=\"C:/Users/Datapirates/Desktop/image/chest_xray/test\"   \n",
    "for directory in os.listdir(dir_list):\n",
    "    for filename in os.listdir(dir_list + '/' + directory):\n",
    "        #z1.append(filename) \n",
    "        \n",
    "        image = cv2.imread(dir_list + '/' + directory + '/' + filename,0)\n",
    "        image = lo(image)\n",
    "        image = cv2.resize(image,dsize=(32,32))\n",
    "        x1.append(image)\n",
    "        \n",
    "        if directory == 'PNEUMONIA':\n",
    "            y1.append(1)\n",
    "        else:\n",
    "            y1.append(0) \n",
    "            \n",
    "\n",
    "xtest=np.array(x1)\n",
    "ytest=np.array(y1)\n",
    "xtest,ytest=shuffle(xtest,ytest)                    "
   ]
  },
  {
   "cell_type": "code",
   "execution_count": 7,
   "metadata": {},
   "outputs": [
    {
     "data": {
      "text/plain": [
       "(624, 32, 32)"
      ]
     },
     "execution_count": 7,
     "metadata": {},
     "output_type": "execute_result"
    }
   ],
   "source": [
    "xtest.shape"
   ]
  },
  {
   "cell_type": "code",
   "execution_count": 8,
   "metadata": {},
   "outputs": [],
   "source": [
    "## 5.)\n",
    "##validation set importing and labelling\n",
    "val=[]\n",
    "file=[]\n",
    "\n",
    "\n",
    "dir_list=\"C:/Users/Datapirates/Desktop/image/chest_xray/val\"   \n",
    "for directory in os.listdir(dir_list):\n",
    "    for filename in os.listdir(dir_list + '/' + directory):\n",
    "        #file.append(filename) \n",
    "        \n",
    "        image = cv2.imread(dir_list + '/' + directory + '/' + filename,0)\n",
    "        image=lo(image)\n",
    "        image=cv2.resize(image,dsize=(32,32))\n",
    "        \n",
    "        val.append(image)\n",
    "        \n",
    "        \n",
    "        if directory == 'PNEUMONIA':\n",
    "            file.append(1)\n",
    "        else:\n",
    "            file.append(0)\n",
    "            \n",
    "xval=np.array(val)\n",
    "yval=np.array(file)\n",
    "xval,yval=shuffle(xval,yval)"
   ]
  },
  {
   "cell_type": "code",
   "execution_count": 9,
   "metadata": {},
   "outputs": [
    {
     "data": {
      "text/plain": [
       "(16, 32, 32)"
      ]
     },
     "execution_count": 9,
     "metadata": {},
     "output_type": "execute_result"
    }
   ],
   "source": [
    "xval.shape"
   ]
  },
  {
   "cell_type": "code",
   "execution_count": 10,
   "metadata": {},
   "outputs": [],
   "source": [
    "##6.)\n",
    "##model building\n",
    "import tensorflow\n",
    "from tensorflow import keras\n",
    "from tensorflow.keras import layers\n",
    "from tensorflow.keras.models import Sequential\n",
    "from tensorflow.keras.layers import Dense, Dropout, Flatten\n",
    "from tensorflow.keras.layers import Conv2D, AveragePooling2D,MaxPooling2D\n",
    "from tensorflow.keras.callbacks import TensorBoard, ModelCheckpoint\n",
    "from tensorflow.keras.utils import to_categorical"
   ]
  },
  {
   "cell_type": "code",
   "execution_count": 99,
   "metadata": {},
   "outputs": [],
   "source": [
    "# Compile the model\n",
    "model.compile(loss = 'binary_crossentropy', optimizer='adam', metrics=[\"accuracy\"])"
   ]
  },
  {
   "cell_type": "code",
   "execution_count": 12,
   "metadata": {},
   "outputs": [],
   "source": [
    "########\n",
    "model = Sequential()\n",
    "\n",
    "# C1 Convolutional Layer\n",
    "model.add(layers.Conv2D(filters = 6, kernel_size=(5, 5), strides=(1, 1), activation='relu', input_shape=(32,32,1), \n",
    "                        padding=\"same\"))\n",
    "\n",
    "# S2 Pooling Layer\n",
    "model.add(layers.MaxPooling2D(pool_size=(2, 2), strides=(1, 1), padding='valid'))\n",
    "model.add(layers.Dropout(0.5))\n",
    "\n",
    "# C3 Convolutional Layer\n",
    "model.add(layers.Conv2D(filters = 16, kernel_size=(3, 3), strides=(1, 1), activation='relu', padding='valid'))\n",
    "\n",
    "# S4 Pooling Layer\n",
    "model.add(layers.MaxPooling2D(pool_size=(2, 2), strides=(2, 2), padding='valid'))\n",
    "model.add(layers.Dropout(0.5))\n",
    "# C5 Fully Connected Convolutional Layer\n",
    "model.add(layers.Conv2D(120, kernel_size=(5, 5), strides=(1, 1), activation='relu', padding='valid'))\n",
    "#Flatten the CNN output so that we can connect it with fully connected layers\n",
    "model.add(layers.Flatten())\n",
    "\n",
    "# FC6 Fully Connected Layer\n",
    "model.add(layers.Dense(84, activation='relu'))\n",
    "model.add(layers.Dropout(0.5))\n",
    "#Output Layer with softmax activation\n",
    "model.add(layers.Dense(2, activation='sigmoid'))\n",
    "\n",
    "# Compile the model\n",
    "model.compile(loss = 'binary_crossentropy', optimizer='adam', metrics=[\"accuracy\"])"
   ]
  },
  {
   "cell_type": "code",
   "execution_count": 16,
   "metadata": {},
   "outputs": [],
   "source": [
    "#### 8.)\n",
    "xtrain = xtrain.astype('float32')\n",
    "xtest = xtest.astype('float32')\n",
    "xval = xval.astype('float32')\n",
    "\n",
    "# Transform lables to one-hot encoding\n",
    "ytrain = to_categorical(ytrain)\n",
    "ytest = to_categorical(ytest)\n",
    "yval=to_categorical(yval)\n",
    "# Reshape the dataset into 4D array\n",
    "xtrain = xtrain.reshape(xtrain.shape[0], 32,32,1)\n",
    "xtest = xtest.reshape(xtest.shape[0], 32,32,1)\n",
    "xval = xval.reshape(xval.shape[0], 32,32,1)"
   ]
  },
  {
   "cell_type": "code",
   "execution_count": 17,
   "metadata": {},
   "outputs": [
    {
     "name": "stdout",
     "output_type": "stream",
     "text": [
      "Train on 7875 samples, validate on 624 samples\n",
      "Epoch 1/10\n"
     ]
    },
    {
     "name": "stderr",
     "output_type": "stream",
     "text": [
      "WARNING: Logging before flag parsing goes to stderr.\n",
      "W0917 10:55:38.965569  8408 deprecation.py:323] From C:\\The KMPlayer\\anaconda\\lib\\site-packages\\tensorflow_core\\python\\ops\\nn_impl.py:183: where (from tensorflow.python.ops.array_ops) is deprecated and will be removed in a future version.\n",
      "Instructions for updating:\n",
      "Use tf.where in 2.0, which has the same broadcast rule as np.where\n"
     ]
    },
    {
     "name": "stdout",
     "output_type": "stream",
     "text": [
      "7875/7875 [==============================] - 28s 4ms/sample - loss: 0.4122 - accuracy: 0.8168 - val_loss: 1.1857 - val_accuracy: 0.6306\n",
      "Epoch 2/10\n",
      "7875/7875 [==============================] - 25s 3ms/sample - loss: 0.2823 - accuracy: 0.8868 - val_loss: 1.5523 - val_accuracy: 0.6282\n",
      "Epoch 3/10\n",
      "7875/7875 [==============================] - 25s 3ms/sample - loss: 0.2463 - accuracy: 0.8981 - val_loss: 1.4410 - val_accuracy: 0.6378\n",
      "Epoch 4/10\n",
      "7875/7875 [==============================] - 25s 3ms/sample - loss: 0.2221 - accuracy: 0.9086 - val_loss: 2.5490 - val_accuracy: 0.6290\n",
      "Epoch 5/10\n",
      "7875/7875 [==============================] - 25s 3ms/sample - loss: 0.2111 - accuracy: 0.9154 - val_loss: 1.2632 - val_accuracy: 0.6418\n",
      "Epoch 6/10\n",
      "7875/7875 [==============================] - 25s 3ms/sample - loss: 0.1996 - accuracy: 0.9197 - val_loss: 2.0345 - val_accuracy: 0.6282\n",
      "Epoch 7/10\n",
      "7875/7875 [==============================] - 26s 3ms/sample - loss: 0.1934 - accuracy: 0.9210 - val_loss: 1.9461 - val_accuracy: 0.6298\n",
      "Epoch 8/10\n",
      "7875/7875 [==============================] - 26s 3ms/sample - loss: 0.1837 - accuracy: 0.9262 - val_loss: 2.4117 - val_accuracy: 0.6290\n",
      "Epoch 9/10\n",
      "7875/7875 [==============================] - 25s 3ms/sample - loss: 0.1773 - accuracy: 0.9288 - val_loss: 2.1599 - val_accuracy: 0.6298\n",
      "Epoch 10/10\n",
      "7875/7875 [==============================] - 26s 3ms/sample - loss: 0.1734 - accuracy: 0.9341 - val_loss: 2.0285 - val_accuracy: 0.6274\n"
     ]
    },
    {
     "data": {
      "text/plain": [
       "<tensorflow.python.keras.callbacks.History at 0x1ff5cccd7f0>"
      ]
     },
     "execution_count": 17,
     "metadata": {},
     "output_type": "execute_result"
    }
   ],
   "source": [
    "model.fit(x=xtrain, y=ytrain,batch_size=32,epochs=10,verbose=1,validation_data=(xtest,ytest))"
   ]
  },
  {
   "cell_type": "code",
   "execution_count": 131,
   "metadata": {},
   "outputs": [],
   "source": [
    "def img(a):\n",
    "    a=cv2.imread(a,0)\n",
    "    a=cv2.resize(a,(32,32))\n",
    "    a=a/255\n",
    "    a=a.reshape(-1,32,32,1)\n",
    "    return a\n"
   ]
  },
  {
   "cell_type": "code",
   "execution_count": 118,
   "metadata": {},
   "outputs": [],
   "source": [
    "a=cv2.imread(b,0)"
   ]
  },
  {
   "cell_type": "code",
   "execution_count": 123,
   "metadata": {},
   "outputs": [],
   "source": [
    "def plot_metrics(history):\n",
    "    \n",
    "    train_loss = history['loss']\n",
    "    val_loss = history['val_loss']\n",
    "    train_acc = history['accuracy']\n",
    "    val_acc = history['val_accuracy']\n",
    "    \n",
    "    # Loss\n",
    "    plt.figure()\n",
    "    plt.plot(train_loss, label='Training Loss')\n",
    "    plt.plot(val_loss, label='Validation Loss')\n",
    "    plt.title('Loss')\n",
    "    plt.legend()\n",
    "    plt.show()\n",
    "    \n",
    "    # Accuracy\n",
    "    plt.figure()\n",
    "    plt.plot(train_acc, label='Training Accuracy')\n",
    "    plt.plot(val_acc, label='Validation Accuracy')\n",
    "    plt.title('Accuracy')\n",
    "    plt.legend()\n",
    "    plt.show()"
   ]
  },
  {
   "cell_type": "code",
   "execution_count": 124,
   "metadata": {},
   "outputs": [],
   "source": [
    "his=model.history.history"
   ]
  },
  {
   "cell_type": "code",
   "execution_count": 125,
   "metadata": {},
   "outputs": [
    {
     "name": "stdout",
     "output_type": "stream",
     "text": [
      "loss\n",
      "accuracy\n",
      "val_loss\n",
      "val_accuracy\n"
     ]
    }
   ],
   "source": [
    "for key in his.keys():\n",
    "    print(key)"
   ]
  },
  {
   "cell_type": "code",
   "execution_count": 126,
   "metadata": {},
   "outputs": [
    {
     "data": {
      "image/png": "[encoded data removed]",
      "text/plain": [
       "<Figure size 432x288 with 1 Axes>"
      ]
     },
     "metadata": {
      "needs_background": "light"
     },
     "output_type": "display_data"
    },
    {
     "data": {
      "image/png": "[encoded data removed]",
      "text/plain": [
       "<Figure size 432x288 with 1 Axes>"
      ]
     },
     "metadata": {
      "needs_background": "light"
     },
     "output_type": "display_data"
    }
   ],
   "source": [
    "plot_metrics(his)"
   ]
  },
  {
   "cell_type": "code",
   "execution_count": 118,
   "metadata": {},
   "outputs": [],
   "source": []
  },
  {
   "cell_type": "code",
   "execution_count": null,
   "metadata": {},
   "outputs": [],
   "source": []
  }
 ],
 "metadata": {
  "kernelspec": {
   "display_name": "Python 3",
   "language": "python",
   "name": "python3"
  },
  "language_info": {
   "codemirror_mode": {
    "name": "ipython",
    "version": 3
   },
   "file_extension": ".py",
   "mimetype": "text/x-python",
   "name": "python",
   "nbconvert_exporter": "python",
   "pygments_lexer": "ipython3",
   "version": "3.7.3"
  }
 },
 "nbformat": 4,
 "nbformat_minor": 2
}
